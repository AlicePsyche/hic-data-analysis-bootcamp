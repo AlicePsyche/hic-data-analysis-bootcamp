{
 "cells": [
  {
   "cell_type": "markdown",
   "metadata": {},
   "source": [
    "# _P(s)_ on binned and balanced contact matrices, a.k.a. \"expected\""
   ]
  },
  {
   "cell_type": "code",
   "execution_count": 1,
   "metadata": {
    "ExecuteTime": {
     "end_time": "2018-05-07T08:33:39.460844Z",
     "start_time": "2018-05-07T08:33:37.514728Z"
    }
   },
   "outputs": [],
   "source": [
    "%matplotlib inline\n",
    "import matplotlib.pyplot as plt\n",
    "import matplotlib as mpl\n",
    "import seaborn as sns\n",
    "import mirnylib.plotting\n",
    "import multiprocess as mp\n",
    "import numpy as np\n",
    "import pandas as pd\n",
    "import bioframe\n",
    "import cooltools\n",
    "import cooler"
   ]
  },
  {
   "cell_type": "code",
   "execution_count": 2,
   "metadata": {
    "ExecuteTime": {
     "end_time": "2018-05-07T08:33:40.419784Z",
     "start_time": "2018-05-07T08:33:40.062258Z"
    }
   },
   "outputs": [],
   "source": [
    "mm9 = bioframe.fetch_chromsizes('mm9')\n",
    "chromsizes = bioframe.fetch_chromsizes('mm9')\n",
    "chromosomes = list(chromsizes.index)"
   ]
  },
  {
   "cell_type": "code",
   "execution_count": 56,
   "metadata": {
    "ExecuteTime": {
     "end_time": "2018-05-07T11:08:46.207667Z",
     "start_time": "2018-05-07T11:08:46.183197Z"
    }
   },
   "outputs": [],
   "source": [
    "conditions = ['WT', 'T', 'dN']\n",
    "binsize = 100000\n",
    "\n",
    "cooler_paths = {    \n",
    "    'WT' : f'data/UNTR.{binsize}.cool',\n",
    "    'T'  : f'data/TAM.{binsize}.cool',\n",
    "    'dN' : f'data/NIPBL.{binsize}.cool',\n",
    "}\n",
    "long_names = {\n",
    "    'WT': 'Wildtype',\n",
    "    'T' : 'TAM',\n",
    "    'dN': 'NipblKO',\n",
    "}\n",
    "pal = sns.color_palette('colorblind')\n",
    "colors = {\n",
    "    'WT': pal[0],\n",
    "    'T' : '#333333',\n",
    "    'dN': pal[2],\n",
    "}\n",
    "\n",
    "clrs = {\n",
    "    cond: cooler.Cooler(cooler_paths[cond]) for cond in conditions\n",
    "}"
   ]
  },
  {
   "cell_type": "code",
   "execution_count": 54,
   "metadata": {
    "ExecuteTime": {
     "end_time": "2018-05-07T09:27:46.823241Z",
     "start_time": "2018-05-07T09:26:08.690439Z"
    }
   },
   "outputs": [
    {
     "name": "stdout",
     "output_type": "stream",
     "text": [
      "WT cis\n",
      "WT trans\n",
      "T cis\n",
      "T trans\n",
      "dN cis\n",
      "dN trans\n"
     ]
    }
   ],
   "source": [
    "from cooltools.expected import diagsum, blocksum_pairwise\n",
    "supports = [(chrom, 0, chromsizes[chrom]) for chrom in chromosomes]\n",
    "\n",
    "\n",
    "cis_exp = {}\n",
    "trs_exp = {}\n",
    "\n",
    "with mp.Pool(8) as pool:\n",
    "    for cond in conditions:\n",
    "        \n",
    "        print(cond, 'cis')\n",
    "        tables = diagsum(\n",
    "            clrs[cond], \n",
    "            supports, \n",
    "            transforms={\n",
    "                'balanced': lambda p: p['count'] * p['weight1'] * p['weight2'],\n",
    "            },\n",
    "            chunksize=10000000,\n",
    "            ignore_diags=2, \n",
    "            map=pool.map)\n",
    "        \n",
    "        cis_exp[cond] = pd.concat(\n",
    "            [tables[support] for support in supports], \n",
    "            keys=[support[0] for support in supports], \n",
    "            names=['chrom'])\n",
    "        cis_exp[cond]['balanced.avg'] = cis_exp[cond]['balanced.sum'] / cis_exp[cond]['n_valid']\n",
    "        \n",
    "        cis_exp[cond].to_csv(f'data/{long_names[cond]}.{binsize//1000}kb.expected.cis.tsv', sep='\\t')\n",
    "        \n",
    "        print(cond, 'trans')\n",
    "        records = blocksum_pairwise(\n",
    "            clrs[cond],                \n",
    "            supports, \n",
    "            transforms={\n",
    "                'balanced': lambda p: p['count'] * p['weight1'] * p['weight2'],\n",
    "            },\n",
    "            chunksize=10000000,\n",
    "            map=pool.map)\n",
    "        \n",
    "        trs_exp[cond] = pd.DataFrame(\n",
    "            [{'chrom1': s1[0], 'chrom2': s2[0], **rec} for (s1, s2), rec in records.items()], \n",
    "            columns=['chrom1', 'chrom2', 'n_valid', 'count.sum', 'balanced.sum'])\n",
    "        \n",
    "        trs_exp[cond].to_csv(f'data/{long_names[cond]}.{binsize//1000}kb.expected.trans.tsv', sep='\\t', index=False)"
   ]
  },
  {
   "cell_type": "code",
   "execution_count": 12,
   "metadata": {
    "ExecuteTime": {
     "end_time": "2018-05-07T08:42:23.451320Z",
     "start_time": "2018-05-07T08:42:23.439410Z"
    }
   },
   "outputs": [
    {
     "data": {
      "text/html": [
       "<div>\n",
       "<style>\n",
       "    .dataframe thead tr:only-child th {\n",
       "        text-align: right;\n",
       "    }\n",
       "\n",
       "    .dataframe thead th {\n",
       "        text-align: left;\n",
       "    }\n",
       "\n",
       "    .dataframe tbody tr th {\n",
       "        vertical-align: top;\n",
       "    }\n",
       "</style>\n",
       "<table border=\"1\" class=\"dataframe\">\n",
       "  <thead>\n",
       "    <tr style=\"text-align: right;\">\n",
       "      <th></th>\n",
       "      <th></th>\n",
       "      <th>n_valid</th>\n",
       "      <th>count.sum</th>\n",
       "      <th>balanced.sum</th>\n",
       "      <th>balanced.avg</th>\n",
       "    </tr>\n",
       "    <tr>\n",
       "      <th>chrom</th>\n",
       "      <th>diag</th>\n",
       "      <th></th>\n",
       "      <th></th>\n",
       "      <th></th>\n",
       "      <th></th>\n",
       "    </tr>\n",
       "  </thead>\n",
       "  <tbody>\n",
       "    <tr>\n",
       "      <th rowspan=\"5\" valign=\"top\">chr1</th>\n",
       "      <th>0</th>\n",
       "      <td>1914</td>\n",
       "      <td>NaN</td>\n",
       "      <td>NaN</td>\n",
       "      <td>NaN</td>\n",
       "    </tr>\n",
       "    <tr>\n",
       "      <th>1</th>\n",
       "      <td>1907</td>\n",
       "      <td>NaN</td>\n",
       "      <td>NaN</td>\n",
       "      <td>NaN</td>\n",
       "    </tr>\n",
       "    <tr>\n",
       "      <th>2</th>\n",
       "      <td>1903</td>\n",
       "      <td>173893.0</td>\n",
       "      <td>48.647724</td>\n",
       "      <td>0.025564</td>\n",
       "    </tr>\n",
       "    <tr>\n",
       "      <th>3</th>\n",
       "      <td>1900</td>\n",
       "      <td>116393.0</td>\n",
       "      <td>32.582628</td>\n",
       "      <td>0.017149</td>\n",
       "    </tr>\n",
       "    <tr>\n",
       "      <th>4</th>\n",
       "      <td>1897</td>\n",
       "      <td>87032.0</td>\n",
       "      <td>24.416348</td>\n",
       "      <td>0.012871</td>\n",
       "    </tr>\n",
       "  </tbody>\n",
       "</table>\n",
       "</div>"
      ],
      "text/plain": [
       "            n_valid  count.sum  balanced.sum  balanced.avg\n",
       "chrom diag                                                \n",
       "chr1  0        1914        NaN           NaN           NaN\n",
       "      1        1907        NaN           NaN           NaN\n",
       "      2        1903   173893.0     48.647724      0.025564\n",
       "      3        1900   116393.0     32.582628      0.017149\n",
       "      4        1897    87032.0     24.416348      0.012871"
      ]
     },
     "execution_count": 12,
     "metadata": {},
     "output_type": "execute_result"
    }
   ],
   "source": [
    "cis_exp['WT'].head()"
   ]
  },
  {
   "cell_type": "code",
   "execution_count": 13,
   "metadata": {
    "ExecuteTime": {
     "end_time": "2018-05-07T08:42:23.954996Z",
     "start_time": "2018-05-07T08:42:23.944440Z"
    }
   },
   "outputs": [
    {
     "data": {
      "text/html": [
       "<div>\n",
       "<style>\n",
       "    .dataframe thead tr:only-child th {\n",
       "        text-align: right;\n",
       "    }\n",
       "\n",
       "    .dataframe thead th {\n",
       "        text-align: left;\n",
       "    }\n",
       "\n",
       "    .dataframe tbody tr th {\n",
       "        vertical-align: top;\n",
       "    }\n",
       "</style>\n",
       "<table border=\"1\" class=\"dataframe\">\n",
       "  <thead>\n",
       "    <tr style=\"text-align: right;\">\n",
       "      <th></th>\n",
       "      <th>chrom1</th>\n",
       "      <th>chrom2</th>\n",
       "      <th>n_valid</th>\n",
       "      <th>count.sum</th>\n",
       "      <th>balanced.sum</th>\n",
       "    </tr>\n",
       "  </thead>\n",
       "  <tbody>\n",
       "    <tr>\n",
       "      <th>0</th>\n",
       "      <td>chr1</td>\n",
       "      <td>chr2</td>\n",
       "      <td>3580746</td>\n",
       "      <td>147487.0</td>\n",
       "      <td>40.245619</td>\n",
       "    </tr>\n",
       "    <tr>\n",
       "      <th>1</th>\n",
       "      <td>chr1</td>\n",
       "      <td>chr3</td>\n",
       "      <td>3144876</td>\n",
       "      <td>127399.0</td>\n",
       "      <td>36.505282</td>\n",
       "    </tr>\n",
       "    <tr>\n",
       "      <th>2</th>\n",
       "      <td>chr1</td>\n",
       "      <td>chr4</td>\n",
       "      <td>3065416</td>\n",
       "      <td>123441.0</td>\n",
       "      <td>34.687840</td>\n",
       "    </tr>\n",
       "    <tr>\n",
       "      <th>3</th>\n",
       "      <td>chr1</td>\n",
       "      <td>chr5</td>\n",
       "      <td>3004342</td>\n",
       "      <td>112261.0</td>\n",
       "      <td>31.695929</td>\n",
       "    </tr>\n",
       "    <tr>\n",
       "      <th>4</th>\n",
       "      <td>chr1</td>\n",
       "      <td>chr6</td>\n",
       "      <td>2947618</td>\n",
       "      <td>119073.0</td>\n",
       "      <td>33.525632</td>\n",
       "    </tr>\n",
       "  </tbody>\n",
       "</table>\n",
       "</div>"
      ],
      "text/plain": [
       "  chrom1 chrom2  n_valid  count.sum  balanced.sum\n",
       "0   chr1   chr2  3580746   147487.0     40.245619\n",
       "1   chr1   chr3  3144876   127399.0     36.505282\n",
       "2   chr1   chr4  3065416   123441.0     34.687840\n",
       "3   chr1   chr5  3004342   112261.0     31.695929\n",
       "4   chr1   chr6  2947618   119073.0     33.525632"
      ]
     },
     "execution_count": 13,
     "metadata": {},
     "output_type": "execute_result"
    }
   ],
   "source": [
    "trs_exp['WT'].head()"
   ]
  },
  {
   "cell_type": "code",
   "execution_count": 57,
   "metadata": {
    "ExecuteTime": {
     "end_time": "2018-05-07T11:08:54.371620Z",
     "start_time": "2018-05-07T11:08:54.353935Z"
    }
   },
   "outputs": [
    {
     "data": {
      "text/html": [
       "<div>\n",
       "<style>\n",
       "    .dataframe thead tr:only-child th {\n",
       "        text-align: right;\n",
       "    }\n",
       "\n",
       "    .dataframe thead th {\n",
       "        text-align: left;\n",
       "    }\n",
       "\n",
       "    .dataframe tbody tr th {\n",
       "        vertical-align: top;\n",
       "    }\n",
       "</style>\n",
       "<table border=\"1\" class=\"dataframe\">\n",
       "  <thead>\n",
       "    <tr style=\"text-align: right;\">\n",
       "      <th></th>\n",
       "      <th>cis</th>\n",
       "      <th>trans</th>\n",
       "      <th>total</th>\n",
       "      <th>cis:trans</th>\n",
       "      <th>cis:total</th>\n",
       "    </tr>\n",
       "  </thead>\n",
       "  <tbody>\n",
       "    <tr>\n",
       "      <th>NipblKO</th>\n",
       "      <td>46278739</td>\n",
       "      <td>29372427</td>\n",
       "      <td>75651166</td>\n",
       "      <td>1.575584</td>\n",
       "      <td>0.611739</td>\n",
       "    </tr>\n",
       "    <tr>\n",
       "      <th>TAM</th>\n",
       "      <td>36593527</td>\n",
       "      <td>19690322</td>\n",
       "      <td>56283849</td>\n",
       "      <td>1.858452</td>\n",
       "      <td>0.650160</td>\n",
       "    </tr>\n",
       "    <tr>\n",
       "      <th>Wildtype</th>\n",
       "      <td>28797530</td>\n",
       "      <td>14230469</td>\n",
       "      <td>43027999</td>\n",
       "      <td>2.023653</td>\n",
       "      <td>0.669274</td>\n",
       "    </tr>\n",
       "  </tbody>\n",
       "</table>\n",
       "</div>"
      ],
      "text/plain": [
       "               cis     trans     total  cis:trans  cis:total\n",
       "NipblKO   46278739  29372427  75651166   1.575584   0.611739\n",
       "TAM       36593527  19690322  56283849   1.858452   0.650160\n",
       "Wildtype  28797530  14230469  43027999   2.023653   0.669274"
      ]
     },
     "execution_count": 57,
     "metadata": {},
     "output_type": "execute_result"
    }
   ],
   "source": [
    "stats = {}\n",
    "for cond in conditions:    \n",
    "    n_cis = int(cis_exp[cond]['count.sum'].sum())\n",
    "    n_trs = int(trs_exp[cond]['count.sum'].sum())\n",
    "    stats[long_names[cond]] = {\n",
    "        'cis': n_cis,\n",
    "        'trans': n_trs,\n",
    "        'total': n_cis + n_trs,\n",
    "        'cis:trans': n_cis / n_trs,\n",
    "        'cis:total': n_cis / (n_cis + n_trs)\n",
    "    }\n",
    "pd.DataFrame.from_dict(stats, orient='index')"
   ]
  },
  {
   "cell_type": "code",
   "execution_count": 58,
   "metadata": {
    "ExecuteTime": {
     "end_time": "2018-05-07T11:08:54.985448Z",
     "start_time": "2018-05-07T11:08:54.956391Z"
    }
   },
   "outputs": [
    {
     "name": "stderr",
     "output_type": "stream",
     "text": [
      "/home/nezar/miniconda3/envs/py36/lib/python3.6/site-packages/ipykernel_launcher.py:8: RuntimeWarning: invalid value encountered in true_divide\n",
      "  \n"
     ]
    }
   ],
   "source": [
    "sums = {}\n",
    "n_valid = {}\n",
    "scalings = {}\n",
    "for cond in conditions:\n",
    "    grouped = cis_exp[cond].groupby('diag')\n",
    "    n_valid[cond] = grouped['n_valid'].sum().values\n",
    "    sums[cond] = grouped['balanced.sum'].sum().values\n",
    "    scalings[cond] = (sums[cond] / n_valid[cond])"
   ]
  },
  {
   "cell_type": "code",
   "execution_count": 59,
   "metadata": {
    "ExecuteTime": {
     "end_time": "2018-05-07T11:09:00.068026Z",
     "start_time": "2018-05-07T11:09:00.059482Z"
    }
   },
   "outputs": [],
   "source": [
    "from cooltools.lib import numutils\n",
    "\n",
    "def coarsen_geometric(sums, counts, n_bins=100):\n",
    "    dbins = numutils.logbins(1, len(sums), N=n_bins)\n",
    "    spans = list(zip(dbins[:-1], dbins[1:]))\n",
    "    s = np.array([np.nansum(sums[lo:hi]) for lo, hi in spans])\n",
    "    n = np.array([np.nansum(counts[lo:hi]) for lo, hi in spans])\n",
    "    return dbins, s / n"
   ]
  },
  {
   "cell_type": "code",
   "execution_count": 60,
   "metadata": {
    "ExecuteTime": {
     "end_time": "2018-05-07T11:09:04.410090Z",
     "start_time": "2018-05-07T11:09:00.949910Z"
    }
   },
   "outputs": [
    {
     "data": {
      "image/png": "[encoded data removed]",
      "text/plain": [
       "<matplotlib.figure.Figure at 0x7ff0ca91f9b0>"
      ]
     },
     "metadata": {},
     "output_type": "display_data"
    }
   ],
   "source": [
    "gs = plt.GridSpec(nrows=2, ncols=1, height_ratios=[10, 2])\n",
    "plt.figure(figsize=(8, 15))\n",
    "\n",
    "ax1 = plt.subplot(gs[0])\n",
    "for i, cond in enumerate(conditions):\n",
    "    \n",
    "    ref_point = 200000 // binsize\n",
    "    norm = 1 #scalings[cond][ref_point]\n",
    "    \n",
    "    # cis P(s)\n",
    "    x = np.arange(0, len(scalings[cond]) * binsize, binsize)\n",
    "    y = scalings[cond] / norm\n",
    "#     x, y = coarsen_geometric(sums[cond], n_valid[cond], 100)\n",
    "#     x *= binsize\n",
    "#     x = x[:-1]\n",
    "    \n",
    "    plt.plot(x, y, \n",
    "             color=colors[cond],\n",
    "             label=long_names[cond])\n",
    "    \n",
    "    # average trans levels\n",
    "    for _, row in trs_exp[cond].iterrows():\n",
    "        plt.axhline(\n",
    "            (row['balanced.sum']/row['n_valid']) / norm, \n",
    "            xmin=i/len(conditions),\n",
    "            xmax=(i+1)/len(conditions),\n",
    "            c=colors[cond], \n",
    "            alpha=0.25)\n",
    "\n",
    "plt.xscale('log')\n",
    "plt.yscale('log')\n",
    "plt.ylabel('P(s)')\n",
    "plt.xlabel('separation, bp')\n",
    "plt.legend()\n",
    "plt.gca().set_aspect(1)\n",
    "xlim = plt.xlim()\n",
    "\n",
    "# plt.subplot(gs[1])\n",
    "# for cond in conditions:\n",
    "#     seps = np.arange(0, len(scalings[cond]) * binsize, binsize) #np.sqrt(dbins[:-1] * dbins[1:])\n",
    "#     #cfs = scalings[cond] / scalings[cond][ref_point]\n",
    "    \n",
    "#     x, y = coarsen_geometric(sums[cond], n_valid[cond], 100)\n",
    "#     x *= binsize\n",
    "#     x = x[:-1]\n",
    "#     dydx = np.diff(np.log10(y))/ np.diff(np.log10(x))\n",
    "#     plt.plot(x[:-1], dydx, \n",
    "#              color=colors[cond], \n",
    "#              label=cond,\n",
    "#              ls='--' if cond.endswith('2') else '-')\n",
    "# plt.xscale('log')\n",
    "# plt.ylabel('derivative')\n",
    "# plt.xlabel(r'genomic separation $s$, bp')\n",
    "# #plt.legend(ncol=2)\n",
    "# plt.xlim(1e5, 1e6)\n",
    "# plt.ylim(-1.5, 0)"
   ]
  },
  {
   "cell_type": "code",
   "execution_count": null,
   "metadata": {},
   "outputs": [],
   "source": []
  }
 ],
 "metadata": {
  "kernelspec": {
   "display_name": "Python 3",
   "language": "python",
   "name": "python3"
  },
  "language_info": {
   "codemirror_mode": {
    "name": "ipython",
    "version": 3
   },
   "file_extension": ".py",
   "mimetype": "text/x-python",
   "name": "python",
   "nbconvert_exporter": "python",
   "pygments_lexer": "ipython3",
   "version": "3.6.2"
  },
  "toc": {
   "nav_menu": {},
   "number_sections": true,
   "sideBar": true,
   "skip_h1_title": false,
   "toc_cell": false,
   "toc_position": {},
   "toc_section_display": "block",
   "toc_window_display": false
  }
 },
 "nbformat": 4,
 "nbformat_minor": 2
}
